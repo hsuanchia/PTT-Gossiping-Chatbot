{
  "nbformat": 4,
  "nbformat_minor": 0,
  "metadata": {
    "colab": {
      "name": "gossip_chatbot_train.ipynb",
      "provenance": [],
      "collapsed_sections": [],
      "toc_visible": true,
      "machine_shape": "hm",
      "include_colab_link": true
    },
    "kernelspec": {
      "name": "python3",
      "display_name": "Python 3"
    },
    "language_info": {
      "name": "python"
    },
    "accelerator": "GPU"
  },
  "cells": [
    {
      "cell_type": "markdown",
      "metadata": {
        "id": "view-in-github",
        "colab_type": "text"
      },
      "source": [
        "<a href=\"https://colab.research.google.com/github/hsuanchia/PTT-Gossiping-Chatbot/blob/main/gossip_chatbot_train.ipynb\" target=\"_parent\"><img src=\"https://colab.research.google.com/assets/colab-badge.svg\" alt=\"Open In Colab\"/></a>"
      ]
    },
    {
      "cell_type": "code",
      "metadata": {
        "colab": {
          "base_uri": "https://localhost:8080/"
        },
        "id": "y71X-IKXDGre",
        "outputId": "d22a0285-c80c-4c0f-bdfd-50227ce46953"
      },
      "source": [
        "! nvidia-smi"
      ],
      "execution_count": null,
      "outputs": [
        {
          "output_type": "stream",
          "text": [
            "Sun Jun 20 08:10:27 2021       \n",
            "+-----------------------------------------------------------------------------+\n",
            "| NVIDIA-SMI 465.27       Driver Version: 460.32.03    CUDA Version: 11.2     |\n",
            "|-------------------------------+----------------------+----------------------+\n",
            "| GPU  Name        Persistence-M| Bus-Id        Disp.A | Volatile Uncorr. ECC |\n",
            "| Fan  Temp  Perf  Pwr:Usage/Cap|         Memory-Usage | GPU-Util  Compute M. |\n",
            "|                               |                      |               MIG M. |\n",
            "|===============================+======================+======================|\n",
            "|   0  Tesla V100-SXM2...  Off  | 00000000:00:04.0 Off |                    0 |\n",
            "| N/A   34C    P0    24W / 300W |      0MiB / 16160MiB |      0%      Default |\n",
            "|                               |                      |                  N/A |\n",
            "+-------------------------------+----------------------+----------------------+\n",
            "                                                                               \n",
            "+-----------------------------------------------------------------------------+\n",
            "| Processes:                                                                  |\n",
            "|  GPU   GI   CI        PID   Type   Process name                  GPU Memory |\n",
            "|        ID   ID                                                   Usage      |\n",
            "|=============================================================================|\n",
            "|  No running processes found                                                 |\n",
            "+-----------------------------------------------------------------------------+\n"
          ],
          "name": "stdout"
        }
      ]
    },
    {
      "cell_type": "code",
      "metadata": {
        "colab": {
          "base_uri": "https://localhost:8080/"
        },
        "id": "AVQzObKEDL_1",
        "outputId": "5b0ba18e-1e9b-42b6-dfd4-189ef91ddb22"
      },
      "source": [
        "from google.colab import drive\n",
        "drive.mount('/content/drive')"
      ],
      "execution_count": null,
      "outputs": [
        {
          "output_type": "stream",
          "text": [
            "Drive already mounted at /content/drive; to attempt to forcibly remount, call drive.mount(\"/content/drive\", force_remount=True).\n"
          ],
          "name": "stdout"
        }
      ]
    },
    {
      "cell_type": "code",
      "metadata": {
        "id": "AVuNvVDbgNyG"
      },
      "source": [
        "import json,pickle\n",
        "import numpy as np\n",
        "import tensorflow as tf\n",
        "from keras.layers import Input,Dropout,Embedding,LSTM,Dense,TimeDistributed\n",
        "from keras.models import Model\n",
        "from keras.preprocessing.sequence import pad_sequences\n",
        "from keras.callbacks import EarlyStopping\n",
        "from sklearn.utils import shuffle\n",
        "from tqdm import tqdm"
      ],
      "execution_count": null,
      "outputs": []
    },
    {
      "cell_type": "markdown",
      "metadata": {
        "id": "8lLCGfzUKF4f"
      },
      "source": [
        "# Import Data"
      ]
    },
    {
      "cell_type": "code",
      "metadata": {
        "id": "lAHWlfkripoa"
      },
      "source": [
        "q_path = '/content/drive/MyDrive/NLP/2021May_GossipingQA_question.json'\n",
        "a_path = '/content/drive/MyDrive/NLP/2021May_GossipingQA_answer.json'\n",
        "file_q = open(q_path,'r',encoding='utf8')\n",
        "q_data = json.load(file_q)\n",
        "file_a = open(a_path,'r',encoding='utf8')\n",
        "a_data = json.load(file_a)"
      ],
      "execution_count": null,
      "outputs": []
    },
    {
      "cell_type": "code",
      "metadata": {
        "colab": {
          "base_uri": "https://localhost:8080/"
        },
        "id": "ULVJIEKq0uBW",
        "outputId": "0c8d092b-ec2d-4627-ce9e-6f9522034ed8"
      },
      "source": [
        "q_data = np.array(q_data)\n",
        "a_data = np.array(a_data)\n",
        "q_data, a_data = shuffle(q_data,a_data)"
      ],
      "execution_count": null,
      "outputs": [
        {
          "output_type": "stream",
          "text": [
            "/usr/local/lib/python3.7/dist-packages/ipykernel_launcher.py:1: VisibleDeprecationWarning: Creating an ndarray from ragged nested sequences (which is a list-or-tuple of lists-or-tuples-or ndarrays with different lengths or shapes) is deprecated. If you meant to do this, you must specify 'dtype=object' when creating the ndarray\n",
            "  \"\"\"Entry point for launching an IPython kernel.\n",
            "/usr/local/lib/python3.7/dist-packages/ipykernel_launcher.py:2: VisibleDeprecationWarning: Creating an ndarray from ragged nested sequences (which is a list-or-tuple of lists-or-tuples-or ndarrays with different lengths or shapes) is deprecated. If you meant to do this, you must specify 'dtype=object' when creating the ndarray\n",
            "  \n"
          ],
          "name": "stderr"
        }
      ]
    },
    {
      "cell_type": "code",
      "metadata": {
        "id": "_4N1KGAeiNNp"
      },
      "source": [
        "Q_word_to_index = pickle.load(open(f'/content/drive/MyDrive/NLP/Q_word-index.pkl', 'rb'))\n",
        "Q_index_to_word = pickle.load(open(f'/content/drive/MyDrive/NLP/Q_index-word.pkl', 'rb'))\n",
        "A_word_to_index = pickle.load(open(f'/content/drive/MyDrive/NLP/A_word-index.pkl', 'rb'))\n",
        "A_index_to_word = pickle.load(open(f'/content/drive/MyDrive/NLP/A_index-word.pkl', 'rb'))"
      ],
      "execution_count": null,
      "outputs": []
    },
    {
      "cell_type": "markdown",
      "metadata": {
        "id": "T748b1oTuKId"
      },
      "source": [
        "# Parameter Initialization"
      ]
    },
    {
      "cell_type": "code",
      "metadata": {
        "id": "T5di4_qskXru"
      },
      "source": [
        "start = '<sos>'\n",
        "end = '<end>' \n",
        "unk = '<unk>'\n",
        "pad = '<pad>'"
      ],
      "execution_count": null,
      "outputs": []
    },
    {
      "cell_type": "code",
      "metadata": {
        "id": "FBaRZE8vmc2B"
      },
      "source": [
        "Q_word_to_index[start] = 31652\n",
        "Q_word_to_index[end] = 31653\n",
        "Q_word_to_index[unk] = 31654\n",
        "Q_index_to_word[31652] = start\n",
        "Q_index_to_word[31653] = end\n",
        "Q_index_to_word[31654] = unk\n",
        "\n",
        "A_word_to_index[start] = 36397\n",
        "A_word_to_index[end] = 36398\n",
        "A_word_to_index[unk] = 36399\n",
        "A_index_to_word[36397] = start\n",
        "A_index_to_word[36398] = end\n",
        "A_index_to_word[36399] = unk\n",
        "\n",
        "Q_max_length = 30 #q_data max = 30, a_data max = 59\n",
        "A_max_length = 60\n",
        "Q_vocsize = len(Q_word_to_index)\n",
        "A_vocsize = len(A_word_to_index)\n",
        "embedding_dim = 300\n",
        "unit = 512"
      ],
      "execution_count": null,
      "outputs": []
    },
    {
      "cell_type": "markdown",
      "metadata": {
        "id": "8ZNNwp7PKAJg"
      },
      "source": [
        "# Data Preprocessing"
      ]
    },
    {
      "cell_type": "code",
      "metadata": {
        "id": "g3kNYCodiTPl"
      },
      "source": [
        "def fit_sentence(sentence,word2index,max_length): \n",
        "  ans = []\n",
        "  for i in sentence:\n",
        "    if i in word2index.keys():\n",
        "      ans.append(word2index[i])\n",
        "    else:\n",
        "      ans.append(word2index[unk]) #如果word找不到index,則通通設為unk\n",
        "  seq = pad_sequences([ans],maxlen=max_length,padding='post')\n",
        "  return seq"
      ],
      "execution_count": null,
      "outputs": []
    },
    {
      "cell_type": "code",
      "metadata": {
        "id": "Ii0jvULbKS5O"
      },
      "source": [
        "def Q_data_generator(data,word2index,max_length):\n",
        "  out = []\n",
        "  for i in tqdm(data):\n",
        "    seq = [start]\n",
        "    seq.extend(i[0])\n",
        "    seq.append(end)\n",
        "    out_seq = fit_sentence(seq,word2index,max_length);\n",
        "    out.append(out_seq)\n",
        "  return np.array(out)"
      ],
      "execution_count": null,
      "outputs": []
    },
    {
      "cell_type": "code",
      "metadata": {
        "id": "0McnbWYSM_Zh"
      },
      "source": [
        "def A_data_generator(data,word2index,max_length):\n",
        "  out1, out2 = [], []\n",
        "  for i in tqdm(data):\n",
        "    seq = [start]\n",
        "    seq.extend(i[0])\n",
        "    seq.append(end)\n",
        "    seq1, seq2 = seq[:-1], seq[1:]\n",
        "    o1 = fit_sentence(seq1,word2index,max_length)\n",
        "    o2 = fit_sentence(seq2,word2index,max_length)\n",
        "    out1.append(o1)\n",
        "    out2.append(o2)\n",
        "  return np.array(out1), np.array(out2)"
      ],
      "execution_count": null,
      "outputs": []
    },
    {
      "cell_type": "code",
      "metadata": {
        "colab": {
          "base_uri": "https://localhost:8080/"
        },
        "id": "Ft0ZKWPeSjkX",
        "outputId": "112fcb1d-bfe6-4f80-b020-85de0d608055"
      },
      "source": [
        "# 處理question\n",
        "Q = Q_data_generator(q_data,Q_word_to_index,Q_max_length)"
      ],
      "execution_count": null,
      "outputs": [
        {
          "output_type": "stream",
          "text": [
            "100%|██████████| 48560/48560 [00:01<00:00, 30963.96it/s]\n"
          ],
          "name": "stderr"
        }
      ]
    },
    {
      "cell_type": "code",
      "metadata": {
        "colab": {
          "base_uri": "https://localhost:8080/"
        },
        "id": "6ax2G8I1Mpot",
        "outputId": "837a5ea8-9599-4789-e160-418cc267bad5"
      },
      "source": [
        "# 處理answer\n",
        "# ex: 原本的答案假設是[1,2,3,4,5,6]\n",
        "# A1 = [1,2,3,4,5]; A2 = [2,3,4,5,6]\n",
        "A1, A2 = A_data_generator(a_data,A_word_to_index,A_max_length) "
      ],
      "execution_count": null,
      "outputs": [
        {
          "output_type": "stream",
          "text": [
            "100%|██████████| 48560/48560 [00:03<00:00, 14933.90it/s]\n"
          ],
          "name": "stderr"
        }
      ]
    },
    {
      "cell_type": "code",
      "metadata": {
        "id": "dvK9mVnEfKnv"
      },
      "source": [
        "# 將資料降維: (None,1,max_length) -> (None,max_length)\n",
        "Q = np.squeeze(Q)\n",
        "A1 = np.squeeze(A1)\n",
        "A2 = np.squeeze(A2)"
      ],
      "execution_count": null,
      "outputs": []
    },
    {
      "cell_type": "code",
      "metadata": {
        "colab": {
          "base_uri": "https://localhost:8080/"
        },
        "id": "trjPQAq8yy7Z",
        "outputId": "75225b68-b509-46c9-c772-a540e090a1b1"
      },
      "source": [
        "# 分割資料\n",
        "q_train,q_val = Q[:40000],Q[40000:]\n",
        "a1_train,a1_val = A1[:40000],A1[40000:]\n",
        "a2_train,a2_val = A2[:40000],A2[40000:]\n",
        "print('Train: ', len(q_train))\n",
        "print('Validation: ', len(q_val))"
      ],
      "execution_count": null,
      "outputs": [
        {
          "output_type": "stream",
          "text": [
            "Train:  40000\n",
            "Validation:  8560\n"
          ],
          "name": "stdout"
        }
      ]
    },
    {
      "cell_type": "markdown",
      "metadata": {
        "id": "I7Er55MSAl5T"
      },
      "source": [
        "# Model"
      ]
    },
    {
      "cell_type": "code",
      "metadata": {
        "colab": {
          "base_uri": "https://localhost:8080/",
          "height": 990
        },
        "id": "uJkAeP-eoF6f",
        "outputId": "da82f6d8-083d-4223-cf3e-0ee178011469"
      },
      "source": [
        "Q_in = Input((Q_max_length,),name='Q_input')\n",
        "Q_emb = Embedding(Q_vocsize+1,embedding_dim,mask_zero=True,name='Q_emb')(Q_in)\n",
        "Q_out, Q_h, Q_c = LSTM(unit,return_state=True,recurrent_dropout=0.2,name='Q_LSTM')(Q_emb)\n",
        "Q_state = [Q_h,Q_c]\n",
        "A_in = Input((A_max_length,),name='A_input')\n",
        "A_emb = Embedding(A_vocsize+1,embedding_dim,mask_zero=True,name='A_emb')(A_in)\n",
        "A_out = LSTM(unit,return_sequences=True,recurrent_dropout=0.2,name='A_LSTM')(A_emb,initial_state=Q_state)\n",
        "output = Dense(A_vocsize+1,activation='softmax',name='Output')(A_out)\n",
        "\n",
        "model = Model(inputs=[Q_in,A_in],outputs=output,name='Gossip_ChatBot')\n",
        "opt = tf.keras.optimizers.Adam(learning_rate=0.001)\n",
        "model.summary()\n",
        "model.compile(loss='sparse_categorical_crossentropy',optimizer=opt,metrics=['sparse_categorical_accuracy'])\n",
        "\n",
        "tf.keras.utils.plot_model(model,show_shapes=True)"
      ],
      "execution_count": null,
      "outputs": [
        {
          "output_type": "stream",
          "text": [
            "WARNING:tensorflow:Layer Q_LSTM will not use cuDNN kernels since it doesn't meet the criteria. It will use a generic GPU kernel as fallback when running on GPU.\n",
            "WARNING:tensorflow:Layer A_LSTM will not use cuDNN kernels since it doesn't meet the criteria. It will use a generic GPU kernel as fallback when running on GPU.\n",
            "Model: \"Gossip_ChatBot\"\n",
            "__________________________________________________________________________________________________\n",
            "Layer (type)                    Output Shape         Param #     Connected to                     \n",
            "==================================================================================================\n",
            "Q_input (InputLayer)            [(None, 30)]         0                                            \n",
            "__________________________________________________________________________________________________\n",
            "A_input (InputLayer)            [(None, 60)]         0                                            \n",
            "__________________________________________________________________________________________________\n",
            "Q_emb (Embedding)               (None, 30, 300)      9496500     Q_input[0][0]                    \n",
            "__________________________________________________________________________________________________\n",
            "A_emb (Embedding)               (None, 60, 300)      10920000    A_input[0][0]                    \n",
            "__________________________________________________________________________________________________\n",
            "Q_LSTM (LSTM)                   [(None, 512), (None, 1665024     Q_emb[0][0]                      \n",
            "__________________________________________________________________________________________________\n",
            "A_LSTM (LSTM)                   (None, 60, 512)      1665024     A_emb[0][0]                      \n",
            "                                                                 Q_LSTM[0][1]                     \n",
            "                                                                 Q_LSTM[0][2]                     \n",
            "__________________________________________________________________________________________________\n",
            "Output (Dense)                  (None, 60, 36400)    18673200    A_LSTM[0][0]                     \n",
            "==================================================================================================\n",
            "Total params: 42,419,748\n",
            "Trainable params: 42,419,748\n",
            "Non-trainable params: 0\n",
            "__________________________________________________________________________________________________\n"
          ],
          "name": "stdout"
        },
        {
          "output_type": "execute_result",
          "data": {
            "image/png": "[encoded data removed]",
            "text/plain": [
              "<IPython.core.display.Image object>"
            ]
          },
          "metadata": {
            "tags": []
          },
          "execution_count": 35
        }
      ]
    },
    {
      "cell_type": "code",
      "metadata": {
        "colab": {
          "base_uri": "https://localhost:8080/"
        },
        "id": "AQ6HCEd7xKi1",
        "outputId": "2fbdc1a4-ca0c-45b1-97a1-31736cb0b0a7"
      },
      "source": [
        "my_callbacks = [EarlyStopping(patience=5,monitor='val_loss')] \n",
        "model.fit((q_train,a1_train),a2_train,epochs=100,validation_data=((q_val,a1_val),a2_val),callbacks=my_callbacks)"
      ],
      "execution_count": null,
      "outputs": [
        {
          "output_type": "stream",
          "text": [
            "Epoch 1/100\n",
            "1250/1250 [==============================] - 398s 315ms/step - loss: 1.6839 - sparse_categorical_accuracy: 0.1904 - val_loss: 1.4362 - val_sparse_categorical_accuracy: 0.2475\n",
            "Epoch 2/100\n",
            "1250/1250 [==============================] - 385s 308ms/step - loss: 1.3828 - sparse_categorical_accuracy: 0.2500 - val_loss: 1.4014 - val_sparse_categorical_accuracy: 0.2609\n",
            "Epoch 3/100\n",
            "1250/1250 [==============================] - 382s 306ms/step - loss: 1.2999 - sparse_categorical_accuracy: 0.2698 - val_loss: 1.3916 - val_sparse_categorical_accuracy: 0.2667\n",
            "Epoch 4/100\n",
            "1250/1250 [==============================] - 379s 303ms/step - loss: 1.2307 - sparse_categorical_accuracy: 0.2866 - val_loss: 1.3961 - val_sparse_categorical_accuracy: 0.2714\n",
            "Epoch 5/100\n",
            "1250/1250 [==============================] - 373s 298ms/step - loss: 1.1663 - sparse_categorical_accuracy: 0.2990 - val_loss: 1.4076 - val_sparse_categorical_accuracy: 0.2704\n",
            "Epoch 6/100\n",
            "1250/1250 [==============================] - 374s 300ms/step - loss: 1.1053 - sparse_categorical_accuracy: 0.3095 - val_loss: 1.4263 - val_sparse_categorical_accuracy: 0.2756\n",
            "Epoch 7/100\n",
            "1250/1250 [==============================] - 372s 298ms/step - loss: 1.0510 - sparse_categorical_accuracy: 0.3250 - val_loss: 1.4488 - val_sparse_categorical_accuracy: 0.2738\n",
            "Epoch 8/100\n",
            "1250/1250 [==============================] - 377s 302ms/step - loss: 0.9961 - sparse_categorical_accuracy: 0.3454 - val_loss: 1.4714 - val_sparse_categorical_accuracy: 0.2739\n"
          ],
          "name": "stdout"
        },
        {
          "output_type": "execute_result",
          "data": {
            "text/plain": [
              "<keras.callbacks.History at 0x7f337ff32050>"
            ]
          },
          "metadata": {
            "tags": []
          },
          "execution_count": 36
        }
      ]
    },
    {
      "cell_type": "code",
      "metadata": {
        "id": "7hdfBilcAs9l"
      },
      "source": [
        "model.save('/content/drive/MyDrive/NLP/Gossip_chatbot_9.h5')"
      ],
      "execution_count": null,
      "outputs": []
    },
    {
      "cell_type": "code",
      "metadata": {
        "id": "Z8kzYTURB8X5"
      },
      "source": [
        "model = model.load"
      ],
      "execution_count": null,
      "outputs": []
    },
    {
      "cell_type": "code",
      "metadata": {
        "id": "sTCjkZHYB3Xl"
      },
      "source": [
        "def fit_sentence(seq,word2index,max_length):\n",
        "    out_seq = token.texts_to_sequences(seq)\n",
        "    tmp = [[word_index[start]]]\n",
        "    tmp.extend(out_seq)\n",
        "    tmp.append([word_index[end]])\n",
        "    out_seq = tmp\n",
        "    out_seq = pad_sequences([out_seq],maxlen=max_length,padding='post')\n",
        "    out_seq = np.squeeze(out_seq)\n",
        "    return out_seq"
      ],
      "execution_count": null,
      "outputs": []
    },
    {
      "cell_type": "code",
      "metadata": {
        "id": "vi9IDrbTB5-L"
      },
      "source": [
        "temperature = 0.8\n",
        "while True:\n",
        "  question = input('公威阿: ')\n",
        "  if question == '滾': # 輸入 '滾' 即可結束Chat Bot\n",
        "    print('...88')\n",
        "    break\n",
        "  ans_seq = ''\n",
        "  cur_token = start\n",
        "  word_count = 1\n",
        "  target_seq = np.zeros((1,A_max_length),dtype='int64')\n",
        "  target_seq[0,0] = word_index[start]\n",
        "  q = fit_sentence(question,word_index,Q_max_length)\n",
        "  q = np.squeeze(q)\n",
        "  q = tf.expand_dims(q,0)\n",
        "  while word_count < A_max_length:\n",
        "    decoder_output = model.predict([q,target_seq])\n",
        "    decoder_output /= temperature\n",
        "    ind = np.argmax(decoder_output[0,word_count])\n",
        "    cur_token = index_word[ind]\n",
        "    if cur_token == end:\n",
        "      break\n",
        "    ans_seq += cur_token\n",
        "    target_seq[0,word_count] = ind\n",
        "    word_count += 1\n",
        "  print(ans_seq)"
      ],
      "execution_count": null,
      "outputs": []
    }
  ]
}