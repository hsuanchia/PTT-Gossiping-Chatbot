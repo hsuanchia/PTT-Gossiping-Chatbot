{
  "nbformat": 4,
  "nbformat_minor": 0,
  "metadata": {
    "colab": {
      "name": "gossip_chatbot_train_char.ipynb",
      "provenance": [],
      "collapsed_sections": [],
      "toc_visible": true,
      "include_colab_link": true
    },
    "kernelspec": {
      "name": "python3",
      "display_name": "Python 3"
    },
    "language_info": {
      "name": "python"
    },
    "accelerator": "GPU"
  },
  "cells": [
    {
      "cell_type": "markdown",
      "metadata": {
        "id": "view-in-github",
        "colab_type": "text"
      },
      "source": [
        "<a href=\"https://colab.research.google.com/github/hsuanchia/PTT-Gossiping-Chatbot/blob/main/gossip_chatbot_train_char.ipynb\" target=\"_parent\"><img src=\"https://colab.research.google.com/assets/colab-badge.svg\" alt=\"Open In Colab\"/></a>"
      ]
    },
    {
      "cell_type": "code",
      "metadata": {
        "colab": {
          "base_uri": "https://localhost:8080/"
        },
        "id": "y71X-IKXDGre",
        "outputId": "cd69fd01-4b74-44cb-f2e3-313d1c7702a6"
      },
      "source": [
        "! nvidia-smi"
      ],
      "execution_count": null,
      "outputs": [
        {
          "output_type": "stream",
          "text": [
            "Tue Jun 22 05:48:39 2021       \n",
            "+-----------------------------------------------------------------------------+\n",
            "| NVIDIA-SMI 465.27       Driver Version: 460.32.03    CUDA Version: 11.2     |\n",
            "|-------------------------------+----------------------+----------------------+\n",
            "| GPU  Name        Persistence-M| Bus-Id        Disp.A | Volatile Uncorr. ECC |\n",
            "| Fan  Temp  Perf  Pwr:Usage/Cap|         Memory-Usage | GPU-Util  Compute M. |\n",
            "|                               |                      |               MIG M. |\n",
            "|===============================+======================+======================|\n",
            "|   0  Tesla P100-PCIE...  Off  | 00000000:00:04.0 Off |                    0 |\n",
            "| N/A   47C    P0    30W / 250W |      0MiB / 16280MiB |      0%      Default |\n",
            "|                               |                      |                  N/A |\n",
            "+-------------------------------+----------------------+----------------------+\n",
            "                                                                               \n",
            "+-----------------------------------------------------------------------------+\n",
            "| Processes:                                                                  |\n",
            "|  GPU   GI   CI        PID   Type   Process name                  GPU Memory |\n",
            "|        ID   ID                                                   Usage      |\n",
            "|=============================================================================|\n",
            "|  No running processes found                                                 |\n",
            "+-----------------------------------------------------------------------------+\n"
          ],
          "name": "stdout"
        }
      ]
    },
    {
      "cell_type": "code",
      "metadata": {
        "id": "AVQzObKEDL_1",
        "colab": {
          "base_uri": "https://localhost:8080/"
        },
        "outputId": "9b71c2d7-5519-4aff-c62e-671c8e6d74a8"
      },
      "source": [
        "from google.colab import drive\n",
        "drive.mount('/content/drive')"
      ],
      "execution_count": null,
      "outputs": [
        {
          "output_type": "stream",
          "text": [
            "Mounted at /content/drive\n"
          ],
          "name": "stdout"
        }
      ]
    },
    {
      "cell_type": "code",
      "metadata": {
        "id": "AVuNvVDbgNyG"
      },
      "source": [
        "import json,pickle\n",
        "import numpy as np\n",
        "import tensorflow as tf\n",
        "from keras.layers import Input,Dropout,Embedding,LSTM,Dense,TimeDistributed\n",
        "from keras.models import Model,load_model\n",
        "from keras.preprocessing.sequence import pad_sequences\n",
        "from keras.preprocessing.text import Tokenizer\n",
        "from keras.callbacks import EarlyStopping\n",
        "from sklearn.utils import shuffle\n",
        "from tqdm import tqdm"
      ],
      "execution_count": null,
      "outputs": []
    },
    {
      "cell_type": "markdown",
      "metadata": {
        "id": "8lLCGfzUKF4f"
      },
      "source": [
        "# Import Data"
      ]
    },
    {
      "cell_type": "code",
      "metadata": {
        "id": "lAHWlfkripoa"
      },
      "source": [
        "q_path = '/content/drive/MyDrive/NLP/2021May_GossipingQA_question.json'\n",
        "a_path = '/content/drive/MyDrive/NLP/2021May_GossipingQA_answer.json'\n",
        "file_q = open(q_path,'r',encoding='utf8')\n",
        "q_data = json.load(file_q)\n",
        "file_a = open(a_path,'r',encoding='utf8')\n",
        "a_data = json.load(file_a)"
      ],
      "execution_count": null,
      "outputs": []
    },
    {
      "cell_type": "code",
      "metadata": {
        "colab": {
          "base_uri": "https://localhost:8080/"
        },
        "id": "ULVJIEKq0uBW",
        "outputId": "7cd6911a-1944-462f-c389-7a975ef4daec"
      },
      "source": [
        "q_data = np.array(q_data)\n",
        "a_data = np.array(a_data)\n",
        "q_data, a_data = shuffle(q_data,a_data)"
      ],
      "execution_count": null,
      "outputs": [
        {
          "output_type": "stream",
          "text": [
            "/usr/local/lib/python3.7/dist-packages/ipykernel_launcher.py:1: VisibleDeprecationWarning: Creating an ndarray from ragged nested sequences (which is a list-or-tuple of lists-or-tuples-or ndarrays with different lengths or shapes) is deprecated. If you meant to do this, you must specify 'dtype=object' when creating the ndarray\n",
            "  \"\"\"Entry point for launching an IPython kernel.\n",
            "/usr/local/lib/python3.7/dist-packages/ipykernel_launcher.py:2: VisibleDeprecationWarning: Creating an ndarray from ragged nested sequences (which is a list-or-tuple of lists-or-tuples-or ndarrays with different lengths or shapes) is deprecated. If you meant to do this, you must specify 'dtype=object' when creating the ndarray\n",
            "  \n"
          ],
          "name": "stderr"
        }
      ]
    },
    {
      "cell_type": "code",
      "metadata": {
        "id": "6XEsjnLrjTed"
      },
      "source": [
        "q, a = [], []\n",
        "for i in range(len(q_data)):\n",
        "  seq_q, seq_a = q_data[i][0], a_data[i][0]\n",
        "  q.append(\"\".join(seq_q))\n",
        "  a.append(\"\".join(seq_a))"
      ],
      "execution_count": null,
      "outputs": []
    },
    {
      "cell_type": "markdown",
      "metadata": {
        "id": "wWp4HpRTkTyZ"
      },
      "source": [
        "# Tokenizer"
      ]
    },
    {
      "cell_type": "code",
      "metadata": {
        "id": "ijlnqTrDkTVT"
      },
      "source": [
        "token = Tokenizer(char_level=True,filters='',oov_token='<unk>')\n",
        "token.fit_on_texts(q)\n",
        "token.fit_on_texts(a)"
      ],
      "execution_count": null,
      "outputs": []
    },
    {
      "cell_type": "code",
      "metadata": {
        "colab": {
          "base_uri": "https://localhost:8080/"
        },
        "id": "8gNdd144kosm",
        "outputId": "09ccde3a-60dd-4eb6-a9cc-f4d1b023213f"
      },
      "source": [
        "print(len(token.word_index))\n",
        "word_index = token.word_index\n",
        "index_word = token.index_word"
      ],
      "execution_count": null,
      "outputs": [
        {
          "output_type": "stream",
          "text": [
            "4762\n"
          ],
          "name": "stdout"
        }
      ]
    },
    {
      "cell_type": "markdown",
      "metadata": {
        "id": "T748b1oTuKId"
      },
      "source": [
        "# Parameter Initialization"
      ]
    },
    {
      "cell_type": "code",
      "metadata": {
        "id": "T5di4_qskXru"
      },
      "source": [
        "start = '<sos>'\n",
        "end = '<end>' \n",
        "unk = '<unk>'\n",
        "pad = '<pad>'"
      ],
      "execution_count": null,
      "outputs": []
    },
    {
      "cell_type": "code",
      "metadata": {
        "id": "FBaRZE8vmc2B"
      },
      "source": [
        "word_index[start] = 4762\n",
        "word_index[end] = 4763\n",
        "index_word[4762] = start\n",
        "index_word[4763] = end\n",
        "\n",
        "Q_max_length = 42 #q_data max = 42, a_data max char = 70\n",
        "A_max_length = 70\n",
        "voc_size = len(word_index)\n",
        "embedding_dim = 300\n",
        "unit = 512"
      ],
      "execution_count": null,
      "outputs": []
    },
    {
      "cell_type": "code",
      "metadata": {
        "id": "6iY6AnN25Psr"
      },
      "source": [
        "pickle.dump(obj=index_word, file=open(f'/content/drive/MyDrive/NLP/char_index_word.pkl', 'wb'))\n",
        "pickle.dump(obj=word_index, file=open(f'/content/drive/MyDrive/NLP/char_word_index.pkl', 'wb'))"
      ],
      "execution_count": null,
      "outputs": []
    },
    {
      "cell_type": "code",
      "metadata": {
        "id": "dcEzBw0u5dZy"
      },
      "source": [
        "pickle.dump(obj=token,file=open(f'/content/drive/MyDrive/NLP/char_token.pkl', 'wb'))"
      ],
      "execution_count": null,
      "outputs": []
    },
    {
      "cell_type": "markdown",
      "metadata": {
        "id": "8ZNNwp7PKAJg"
      },
      "source": [
        "# Data Preprocessing"
      ]
    },
    {
      "cell_type": "code",
      "metadata": {
        "id": "eDoHVXId2jbl"
      },
      "source": [
        "def fit_sentence(seq,word2index,max_length):\n",
        "    out_seq = token.texts_to_sequences(seq)\n",
        "    tmp = [[word_index[start]]]\n",
        "    tmp.extend(out_seq)\n",
        "    tmp.append([word_index[end]])\n",
        "    out_seq = tmp\n",
        "    out_seq = pad_sequences([out_seq],maxlen=max_length,padding='post')\n",
        "    out_seq = np.squeeze(out_seq)\n",
        "    return out_seq"
      ],
      "execution_count": null,
      "outputs": []
    },
    {
      "cell_type": "code",
      "metadata": {
        "colab": {
          "base_uri": "https://localhost:8080/"
        },
        "id": "mZdwFCuL25tN",
        "outputId": "ea5f46ea-ea6e-47b1-abf7-69eb0d9c9b3b"
      },
      "source": [
        "s = fit_sentence('請問有沒有疫苗的掛?',word_index,Q_max_length)\n",
        "print(s)"
      ],
      "execution_count": null,
      "outputs": [
        {
          "output_type": "stream",
          "text": [
            "[4762  230   89    8   17    8   28   61    3  583    9 4763    0    0\n",
            "    0    0    0    0    0    0    0    0    0    0    0    0    0    0\n",
            "    0    0    0    0    0    0    0    0    0    0    0    0    0    0]\n"
          ],
          "name": "stdout"
        }
      ]
    },
    {
      "cell_type": "code",
      "metadata": {
        "id": "Ii0jvULbKS5O"
      },
      "source": [
        "# 如果只是想測試inference 從這裡往前的所有code都跑過就可以直接跳到後面inference\n",
        "def Q_data_generator(data,word2index,max_length):\n",
        "  out = []\n",
        "  for i in tqdm(data):\n",
        "    out_seq = token.texts_to_sequences(i)\n",
        "    tmp = [[word_index[start]]]\n",
        "    tmp.extend(out_seq)\n",
        "    tmp.append([word_index[end]])\n",
        "    out_seq = tmp\n",
        "    out_seq = pad_sequences([out_seq],maxlen=max_length,padding='post')\n",
        "    out.append(out_seq)\n",
        "  return np.array(out)"
      ],
      "execution_count": null,
      "outputs": []
    },
    {
      "cell_type": "code",
      "metadata": {
        "id": "0McnbWYSM_Zh"
      },
      "source": [
        "def A_data_generator(data,word2index,max_length):\n",
        "  out1, out2 = [], []\n",
        "  for i in tqdm(data):\n",
        "    seq = token.texts_to_sequences(i)\n",
        "    tmp = [[word_index[start]]]\n",
        "    tmp.extend(seq)\n",
        "    tmp.append([word_index[end]])\n",
        "    seq = tmp\n",
        "    seq1, seq2 = seq[:-1], seq[1:]\n",
        "    o1 = pad_sequences([seq1],maxlen=max_length,padding='post')\n",
        "    o2 = pad_sequences([seq2],maxlen=max_length,padding='post')\n",
        "    out1.append(o1)\n",
        "    out2.append(o2)\n",
        "  return np.array(out1), np.array(out2)"
      ],
      "execution_count": null,
      "outputs": []
    },
    {
      "cell_type": "code",
      "metadata": {
        "colab": {
          "base_uri": "https://localhost:8080/"
        },
        "id": "Ft0ZKWPeSjkX",
        "outputId": "d65296fd-09d2-4c2f-de1e-84f753b3b08d"
      },
      "source": [
        "# 處理question\n",
        "Q = Q_data_generator(q,word_index,Q_max_length)"
      ],
      "execution_count": null,
      "outputs": [
        {
          "output_type": "stream",
          "text": [
            "100%|██████████| 48560/48560 [00:04<00:00, 11962.93it/s]\n"
          ],
          "name": "stderr"
        }
      ]
    },
    {
      "cell_type": "code",
      "metadata": {
        "colab": {
          "base_uri": "https://localhost:8080/"
        },
        "id": "6ax2G8I1Mpot",
        "outputId": "15e82493-2185-4e4f-9dfa-4c12bb80513b"
      },
      "source": [
        "# 處理answer\n",
        "# ex: 原本的答案假設是[1,2,3,4,5,6]\n",
        "# A1 = [1,2,3,4,5]; A2 = [2,3,4,5,6]\n",
        "A1, A2 = A_data_generator(a,word_index,A_max_length) "
      ],
      "execution_count": null,
      "outputs": [
        {
          "output_type": "stream",
          "text": [
            "100%|██████████| 48560/48560 [00:08<00:00, 5784.51it/s]\n"
          ],
          "name": "stderr"
        }
      ]
    },
    {
      "cell_type": "code",
      "metadata": {
        "id": "dvK9mVnEfKnv"
      },
      "source": [
        "# 將資料降維: (None,1,max_length) -> (None,max_length)\n",
        "Q = np.squeeze(Q)\n",
        "A1 = np.squeeze(A1)\n",
        "A2 = np.squeeze(A2)"
      ],
      "execution_count": null,
      "outputs": []
    },
    {
      "cell_type": "code",
      "metadata": {
        "colab": {
          "base_uri": "https://localhost:8080/"
        },
        "id": "trjPQAq8yy7Z",
        "outputId": "c90f9435-0fa1-42f0-9fde-5870fd08fdf9"
      },
      "source": [
        "# 分割資料\n",
        "q_train,q_val = Q[:40000],Q[40000:]\n",
        "a1_train,a1_val = A1[:40000],A1[40000:]\n",
        "a2_train,a2_val = A2[:40000],A2[40000:]\n",
        "print('Train: ', len(q_train))\n",
        "print('Validation: ', len(q_val))"
      ],
      "execution_count": null,
      "outputs": [
        {
          "output_type": "stream",
          "text": [
            "Train:  40000\n",
            "Validation:  8560\n"
          ],
          "name": "stdout"
        }
      ]
    },
    {
      "cell_type": "code",
      "metadata": {
        "colab": {
          "base_uri": "https://localhost:8080/"
        },
        "id": "ZcTSGMUXqT0a",
        "outputId": "ee5595f7-e462-46fe-abb8-47322da45e58"
      },
      "source": [
        "print(q_train[0])\n",
        "print(a1_train[0])\n",
        "print(a2_train[0])"
      ],
      "execution_count": null,
      "outputs": [
        {
          "output_type": "stream",
          "text": [
            "[4762    8  286  288   43   25   17  164  507  341    2   40   15  159\n",
            " 4763    0    0    0    0    0    0    0    0    0    0    0    0    0\n",
            "    0    0    0    0    0    0    0    0    0    0    0    0    0    0]\n",
            "[4762    2   27  156   20    5   21   51  104    2   18   45   11    2\n",
            "   20    4  446   29  122  630    0    0    0    0    0    0    0    0\n",
            "    0    0    0    0    0    0    0    0    0    0    0    0    0    0\n",
            "    0    0    0    0    0    0    0    0    0    0    0    0    0    0\n",
            "    0    0    0    0    0    0    0    0    0    0    0    0    0    0]\n",
            "[   2   27  156   20    5   21   51  104    2   18   45   11    2   20\n",
            "    4  446   29  122  630 4763    0    0    0    0    0    0    0    0\n",
            "    0    0    0    0    0    0    0    0    0    0    0    0    0    0\n",
            "    0    0    0    0    0    0    0    0    0    0    0    0    0    0\n",
            "    0    0    0    0    0    0    0    0    0    0    0    0    0    0]\n"
          ],
          "name": "stdout"
        }
      ]
    },
    {
      "cell_type": "markdown",
      "metadata": {
        "id": "I7Er55MSAl5T"
      },
      "source": [
        "# Model"
      ]
    },
    {
      "cell_type": "code",
      "metadata": {
        "id": "uJkAeP-eoF6f",
        "colab": {
          "base_uri": "https://localhost:8080/",
          "height": 970
        },
        "outputId": "55b89634-488a-4749-98f4-5db45514a8a8"
      },
      "source": [
        "Q_in = Input((Q_max_length,),name='Q_input')\n",
        "Q_emb = Embedding(voc_size+1,embedding_dim,mask_zero=True,name='Q_emb')(Q_in)\n",
        "Q_out, Q_h, Q_c = LSTM(unit,return_state=True,recurrent_dropout=0.25,name='Q_LSTM')(Q_emb)\n",
        "Q_state = [Q_h,Q_c]\n",
        "A_in = Input((A_max_length,),name='A_input')\n",
        "A_emb = Embedding(voc_size+1,embedding_dim,mask_zero=True,name='A_emb')(A_in)\n",
        "A_out = LSTM(unit,return_sequences=True,recurrent_dropout=0.25,dropout=0.5,name='A_LSTM')(A_emb,initial_state=Q_state)\n",
        "output = Dense(voc_size+1,activation='softmax',name='Output')(A_out)\n",
        "\n",
        "model = Model(inputs=[Q_in,A_in],outputs=output,name='Gossip_ChatBot')\n",
        "opt = tf.keras.optimizers.Adam(learning_rate=0.001)\n",
        "model.summary()\n",
        "model.compile(loss='sparse_categorical_crossentropy',optimizer=opt,metrics=['sparse_categorical_accuracy'])\n",
        "\n",
        "tf.keras.utils.plot_model(model,show_shapes=True)"
      ],
      "execution_count": null,
      "outputs": [
        {
          "output_type": "stream",
          "text": [
            "WARNING:tensorflow:Layer Q_LSTM will not use cuDNN kernels since it doesn't meet the criteria. It will use a generic GPU kernel as fallback when running on GPU.\n",
            "WARNING:tensorflow:Layer A_LSTM will not use cuDNN kernels since it doesn't meet the criteria. It will use a generic GPU kernel as fallback when running on GPU.\n",
            "Model: \"Gossip_ChatBot\"\n",
            "__________________________________________________________________________________________________\n",
            "Layer (type)                    Output Shape         Param #     Connected to                     \n",
            "==================================================================================================\n",
            "Q_input (InputLayer)            [(None, 42)]         0                                            \n",
            "__________________________________________________________________________________________________\n",
            "A_input (InputLayer)            [(None, 70)]         0                                            \n",
            "__________________________________________________________________________________________________\n",
            "Q_emb (Embedding)               (None, 42, 300)      1429500     Q_input[0][0]                    \n",
            "__________________________________________________________________________________________________\n",
            "A_emb (Embedding)               (None, 70, 300)      1429500     A_input[0][0]                    \n",
            "__________________________________________________________________________________________________\n",
            "Q_LSTM (LSTM)                   [(None, 512), (None, 1665024     Q_emb[0][0]                      \n",
            "__________________________________________________________________________________________________\n",
            "A_LSTM (LSTM)                   (None, 70, 512)      1665024     A_emb[0][0]                      \n",
            "                                                                 Q_LSTM[0][1]                     \n",
            "                                                                 Q_LSTM[0][2]                     \n",
            "__________________________________________________________________________________________________\n",
            "Output (Dense)                  (None, 70, 4765)     2444445     A_LSTM[0][0]                     \n",
            "==================================================================================================\n",
            "Total params: 8,633,493\n",
            "Trainable params: 8,633,493\n",
            "Non-trainable params: 0\n",
            "__________________________________________________________________________________________________\n"
          ],
          "name": "stdout"
        },
        {
          "output_type": "execute_result",
          "data": {
            "image/png": "[encoded data removed]",
            "text/plain": [
              "<IPython.core.display.Image object>"
            ]
          },
          "metadata": {
            "tags": []
          },
          "execution_count": 50
        }
      ]
    },
    {
      "cell_type": "code",
      "metadata": {
        "colab": {
          "base_uri": "https://localhost:8080/"
        },
        "id": "AQ6HCEd7xKi1",
        "outputId": "ffe70d57-9bd3-48c3-fc96-5e1bf5d275c4"
      },
      "source": [
        "my_callbacks = [EarlyStopping(patience=5,monitor='val_loss')] \n",
        "model.fit((q_train,a1_train),a2_train,epochs=1000,validation_data=((q_val,a1_val),a2_val),callbacks=my_callbacks)"
      ],
      "execution_count": null,
      "outputs": [
        {
          "output_type": "stream",
          "text": [
            "Epoch 1/1000\n",
            "1250/1250 [==============================] - 317s 250ms/step - loss: 1.6696 - sparse_categorical_accuracy: 0.1670 - val_loss: 1.4069 - val_sparse_categorical_accuracy: 0.2392\n",
            "Epoch 2/1000\n",
            "1250/1250 [==============================] - 307s 246ms/step - loss: 1.3789 - sparse_categorical_accuracy: 0.2511 - val_loss: 1.3233 - val_sparse_categorical_accuracy: 0.2673\n",
            "Epoch 3/1000\n",
            "1250/1250 [==============================] - 308s 246ms/step - loss: 1.3025 - sparse_categorical_accuracy: 0.2720 - val_loss: 1.2861 - val_sparse_categorical_accuracy: 0.2796\n",
            "Epoch 4/1000\n",
            "1250/1250 [==============================] - 306s 245ms/step - loss: 1.2542 - sparse_categorical_accuracy: 0.2844 - val_loss: 1.2635 - val_sparse_categorical_accuracy: 0.2862\n",
            "Epoch 5/1000\n",
            "1250/1250 [==============================] - 310s 248ms/step - loss: 1.2181 - sparse_categorical_accuracy: 0.2940 - val_loss: 1.2497 - val_sparse_categorical_accuracy: 0.2927\n",
            "Epoch 6/1000\n",
            "1250/1250 [==============================] - 312s 250ms/step - loss: 1.1903 - sparse_categorical_accuracy: 0.2992 - val_loss: 1.2406 - val_sparse_categorical_accuracy: 0.2969\n",
            "Epoch 7/1000\n",
            "1250/1250 [==============================] - 308s 247ms/step - loss: 1.1721 - sparse_categorical_accuracy: 0.3045 - val_loss: 1.2361 - val_sparse_categorical_accuracy: 0.2995\n",
            "Epoch 8/1000\n",
            "1250/1250 [==============================] - 308s 246ms/step - loss: 1.1515 - sparse_categorical_accuracy: 0.3104 - val_loss: 1.2325 - val_sparse_categorical_accuracy: 0.3007\n",
            "Epoch 9/1000\n",
            "1250/1250 [==============================] - 312s 249ms/step - loss: 1.1374 - sparse_categorical_accuracy: 0.3138 - val_loss: 1.2303 - val_sparse_categorical_accuracy: 0.3036\n",
            "Epoch 10/1000\n",
            "1250/1250 [==============================] - 312s 249ms/step - loss: 1.1236 - sparse_categorical_accuracy: 0.3189 - val_loss: 1.2297 - val_sparse_categorical_accuracy: 0.3047\n",
            "Epoch 11/1000\n",
            "1250/1250 [==============================] - 311s 249ms/step - loss: 1.1103 - sparse_categorical_accuracy: 0.3209 - val_loss: 1.2294 - val_sparse_categorical_accuracy: 0.3058\n",
            "Epoch 12/1000\n",
            "1250/1250 [==============================] - 311s 249ms/step - loss: 1.0992 - sparse_categorical_accuracy: 0.3243 - val_loss: 1.2307 - val_sparse_categorical_accuracy: 0.3043\n",
            "Epoch 13/1000\n",
            "1250/1250 [==============================] - 309s 248ms/step - loss: 1.0899 - sparse_categorical_accuracy: 0.3270 - val_loss: 1.2306 - val_sparse_categorical_accuracy: 0.3075\n",
            "Epoch 14/1000\n",
            "1250/1250 [==============================] - 308s 247ms/step - loss: 1.0809 - sparse_categorical_accuracy: 0.3303 - val_loss: 1.2319 - val_sparse_categorical_accuracy: 0.3076\n",
            "Epoch 15/1000\n",
            "1250/1250 [==============================] - 308s 247ms/step - loss: 1.0650 - sparse_categorical_accuracy: 0.3344 - val_loss: 1.2327 - val_sparse_categorical_accuracy: 0.3079\n",
            "Epoch 16/1000\n",
            "1250/1250 [==============================] - 309s 248ms/step - loss: 1.0603 - sparse_categorical_accuracy: 0.3355 - val_loss: 1.2352 - val_sparse_categorical_accuracy: 0.3081\n"
          ],
          "name": "stdout"
        },
        {
          "output_type": "execute_result",
          "data": {
            "text/plain": [
              "<keras.callbacks.History at 0x7fd58aa03fd0>"
            ]
          },
          "metadata": {
            "tags": []
          },
          "execution_count": 51
        }
      ]
    },
    {
      "cell_type": "code",
      "metadata": {
        "id": "7hdfBilcAs9l"
      },
      "source": [
        "model.save('/content/drive/MyDrive/NLP/Gossip_chatbot_char_7.h5')"
      ],
      "execution_count": null,
      "outputs": []
    },
    {
      "cell_type": "markdown",
      "metadata": {
        "id": "Lmw1vMUBu1_l"
      },
      "source": [
        "# Inference "
      ]
    },
    {
      "cell_type": "code",
      "metadata": {
        "id": "5nIopkIqgBHe",
        "colab": {
          "base_uri": "https://localhost:8080/"
        },
        "outputId": "18011951-1543-4702-b278-7cb2c7f5a109"
      },
      "source": [
        "#跑下面inference前,要先改你要測試的model，否則就是前方訓練好的model\n",
        "#也可以不跑前方訓練，那就是這裡要記得import model\n",
        "model = load_model('/content/drive/MyDrive/NLP/Gossip_chatbot_char_6.h5')"
      ],
      "execution_count": null,
      "outputs": [
        {
          "output_type": "stream",
          "text": [
            "WARNING:tensorflow:Layer Q_LSTM will not use cuDNN kernels since it doesn't meet the criteria. It will use a generic GPU kernel as fallback when running on GPU.\n",
            "WARNING:tensorflow:Layer A_LSTM will not use cuDNN kernels since it doesn't meet the criteria. It will use a generic GPU kernel as fallback when running on GPU.\n"
          ],
          "name": "stdout"
        }
      ]
    },
    {
      "cell_type": "code",
      "metadata": {
        "id": "zSSstxDBu7Xc",
        "colab": {
          "base_uri": "https://localhost:8080/",
          "height": 1000
        },
        "outputId": "c5bc9564-c33f-4bb6-bdef-a6e822677461"
      },
      "source": [
        "while True:\n",
        "  question = input('公威阿: ')\n",
        "  if question == '滾': # 輸入 '滾' 即可結束Chat Bot\n",
        "    print('...88')\n",
        "    break\n",
        "  ans_seq = ''\n",
        "  cur_token = start\n",
        "  word_count = 1\n",
        "  target_seq = np.zeros((1,A_max_length),dtype='int64')\n",
        "  target_seq[0,0] = word_index[start]\n",
        "  q = fit_sentence(question,word_index,Q_max_length)\n",
        "  q = np.squeeze(q)\n",
        "  q = tf.expand_dims(q,0)\n",
        "  while word_count < A_max_length:\n",
        "    decoder_output = model.predict([q,target_seq])\n",
        "    ind = np.argmax(decoder_output[0,word_count])\n",
        "    cur_token = index_word[ind]\n",
        "    if cur_token == end:\n",
        "      break\n",
        "    ans_seq += cur_token\n",
        "    target_seq[0,word_count] = ind\n",
        "    word_count += 1\n",
        "  print(ans_seq)"
      ],
      "execution_count": null,
      "outputs": [
        {
          "output_type": "stream",
          "text": [
            "公威阿: 地震\n",
            "                                                                     \n",
            "公威阿: 遇到地震\n",
            " 你是不是不會有人說你要投氧\n",
            "公威阿: 有地震\n",
            "                                                                     \n",
            "公威阿: 趁亂告白\n",
            " 我都不知道 我是不是我的\n",
            "公威阿: 我沒割包皮\n",
            " 我都不知道 我也想知道 我也想知道\n",
            "公威阿: 地震黃金必男時間是幾秒\n",
            " 我都不知道 我都不知道 我也想知道\n",
            "公威阿: 地震黃金避難時間是多少\n",
            " 我都不知道 我也不知道 我都不知道\n",
            "公威阿: 3+11=?\n",
            " 你是不是不知道                                                             \n",
            "公威阿: fuck\n",
            " 你是不是不知道 但是你的問題是你的問題\n",
            "公威阿: 你會寫C語言ㄇ\n",
            " 我都不知道 我都不知道 我是不是我的\n",
            "公威阿: 我們都有覺悟 要瘋狂到日出\n",
            " 你是不是不是在家裡的事 你是不是都不知道\n",
            "公威阿: 已經有太多讓步\n",
            " 你是不是說不懂?????????????????????????????????????????????????????????????\n",
            "公威阿: 水電和房租\n",
            " 我都不知道 我都不知道 我都不知道\n",
            "公威阿: Let's go party party all night,\n",
            " 你是不是不是說你的事 你是不是都不知道                                                 \n",
            "公威阿: 每一分鐘就等於過了六十秒\n",
            " 我都不知道 我也不知道 我都不知道 我都不知道\n",
            "公威阿: 明天一定是翌日喔\n",
            " 我都不知道 我也不知道 我都不知道 我都不知道\n",
            "公威阿: 大家都有妹妹嗎\n",
            " 我都不知道 我都不知道 我都不知道\n",
            "公威阿: 妹妹\n",
            " 你是不是都不知道                                                            \n",
            "公威阿: CDC\n",
            " 我們這邊都是要上班的人，不要太不滿\n",
            "公威阿: 新冠肺炎\n",
            " 你是不是不知道嗎？\n",
            "公威阿: COVID-19\n",
            " 我都不知道 我也想知道 我也想知道\n",
            "公威阿: 口罩\n",
            " 不是 你要怎麼不早說                                                          \n",
            "公威阿: 都是阿共的陰謀嗎\n",
            " 你是不是不知道                                                             \n",
            "公威阿: 阿公店\n",
            " 不是                                                                  \n",
            "公威阿: 萬華\n",
            "                                                                     \n",
            "公威阿: 南北差距\n",
            " 你是不是不會有人說你要不要去\n",
            "公威阿: 請對南北差距發表你的看法\n",
            " 你是不是不會有人說你要不要去\n",
            "公威阿: 如果我有一座新冰箱\n",
            " 你是不是不會被打成立？\n",
            "公威阿: 冰箱可以很滿，可以很空，當你打開冰箱，通常想尋找什麼\n",
            " 你是不是不會被打死的 你是不是都不知道\n",
            "公威阿: 限用中文書寫\n",
            " 你是不是不知道嗎？\n",
            "公威阿: .下文內最適合填入的詞語依序是：\n",
            " 我都不知道 我都不知道 我都不知道 我是不是\n",
            "公威阿: 天下有可為其半而不可為其全者\n",
            " 你是不是不是不會有人說你要不要去\n",
            "公威阿: 媒體「評論事實」功能是指媒體對於新聞事件會提供不同分析觀點，並可能提出相關改善措施，以發揮媒體的公共角色。下列何種情境最能說明媒體此種角色？\n",
            " 我也覺得她對的是                                                            \n",
            "公威阿: 我國立法院政黨生態由多黨制轉變為兩黨制的最主要原因為何？\n",
            " 你是不是說不懂 你是不是說你是不是不知道 不是\n",
            "公威阿: 在廠商可以交易廢水排放權的情況下，若交易價格持續下降，其原因最可能\n",
            " 你是不是不是說你是不是不知道嗎？\n",
            "公威阿: 總督府發起「寺廟整理運動」最主要的動機是\n",
            " 你是不是不知道                                                             \n",
            "公威阿: 客委會辦理的「客家桐花祭」活動最可能是下列何種概念的具體實踐？\n",
            " 我也覺得                                                                \n",
            "公威阿: 坐標平面上有一邊長為3的正六邊形ABCDEF，其中(3, 0) ,     (  3, 0)AD。試問橢圓221167xy與正六邊形ABCDEF有多少個交點\n",
            " 你是不是在說讓？\n",
            "公威阿: 心理學家找了1000位受試者進行暗室實驗，每位受試者都要觀看及辨識6、8、9三張數字卡，發現將實際數字看成某個數字的機率如下表\n",
            " 你是不是不知道嗎？\n",
            "公威阿: 自然界中，氧化還原反應扮演著重要的角色，下列有關碳循環的過程，何者沒有牽涉到氧化還原反應？\n",
            " 你是不是在說讓？\n",
            "公威阿: 人體透過呼吸運動吸進體內的氣體，其最主要成分為何？\n",
            " 你是不是有人說他是不是有人說他們的已覺\n",
            "公威阿: 下列\n",
            " 我們這邊都是要停電，不是缺電，是不是\n",
            "公威阿: 缺店\n",
            " 不是                                                                  \n",
            "公威阿: 台灣會缺電嗎\n",
            " 我們都是要停電                                                             \n",
            "公威阿: 我家在AB區\n",
            " 我都不知道 我們是不是我的\n",
            "公威阿: 人口的快速增加造成地球資源快速消耗，對自然界生物造成嚴重威脅\n",
            " 你是不是不會被免300萬嗎？\n",
            "公威阿: Google has eight services that serve over one billion users every day. To offer the best availability and user experience for these services, \n",
            " 你是不是在說讓？\n",
            "公威阿: Google has eight services that serve over one billion users every day. To offer the best availability and user experience for these services, \n",
            " 你是不是在說讓？\n",
            "公威阿: 有絲分裂中同源染色體聯會提供分離律的細胞學證據\n",
            " 你是不是有人說他們的已覺得他們的已\n",
            "公威阿: 下列相關推論哪些正確？\n",
            " 你是不是不知道                                                             \n",
            "公威阿: 透過紅色玻璃片，觀看所有景象呈現深淺不一的紅色色調。用來拍攝星空，則所有恆星都呈明亮不同的紅色。現透過望遠鏡用相機拍攝星空，針對同一天區，分別以紅色及藍色玻璃片各拍一幅影像。依此可獲得恆星的何種訊息\n",
            " 你是不是有人說他們的已覺得 你是不是有人在擋\n",
            "公威阿: 有關人體代謝率與體溫維持\n",
            " 你是不是在那邊】】】】】】】】\n"
          ],
          "name": "stdout"
        },
        {
          "output_type": "error",
          "ename": "KeyboardInterrupt",
          "evalue": "ignored",
          "traceback": [
            "\u001b[0;31m---------------------------------------------------------------------------\u001b[0m",
            "\u001b[0;31mKeyboardInterrupt\u001b[0m                         Traceback (most recent call last)",
            "\u001b[0;32m/usr/local/lib/python3.7/dist-packages/ipykernel/kernelbase.py\u001b[0m in \u001b[0;36m_input_request\u001b[0;34m(self, prompt, ident, parent, password)\u001b[0m\n\u001b[1;32m    728\u001b[0m             \u001b[0;32mtry\u001b[0m\u001b[0;34m:\u001b[0m\u001b[0;34m\u001b[0m\u001b[0;34m\u001b[0m\u001b[0m\n\u001b[0;32m--> 729\u001b[0;31m                 \u001b[0mident\u001b[0m\u001b[0;34m,\u001b[0m \u001b[0mreply\u001b[0m \u001b[0;34m=\u001b[0m \u001b[0mself\u001b[0m\u001b[0;34m.\u001b[0m\u001b[0msession\u001b[0m\u001b[0;34m.\u001b[0m\u001b[0mrecv\u001b[0m\u001b[0;34m(\u001b[0m\u001b[0mself\u001b[0m\u001b[0;34m.\u001b[0m\u001b[0mstdin_socket\u001b[0m\u001b[0;34m,\u001b[0m \u001b[0;36m0\u001b[0m\u001b[0;34m)\u001b[0m\u001b[0;34m\u001b[0m\u001b[0;34m\u001b[0m\u001b[0m\n\u001b[0m\u001b[1;32m    730\u001b[0m             \u001b[0;32mexcept\u001b[0m \u001b[0mException\u001b[0m\u001b[0;34m:\u001b[0m\u001b[0;34m\u001b[0m\u001b[0;34m\u001b[0m\u001b[0m\n",
            "\u001b[0;32m/usr/local/lib/python3.7/dist-packages/jupyter_client/session.py\u001b[0m in \u001b[0;36mrecv\u001b[0;34m(self, socket, mode, content, copy)\u001b[0m\n\u001b[1;32m    802\u001b[0m         \u001b[0;32mtry\u001b[0m\u001b[0;34m:\u001b[0m\u001b[0;34m\u001b[0m\u001b[0;34m\u001b[0m\u001b[0m\n\u001b[0;32m--> 803\u001b[0;31m             \u001b[0mmsg_list\u001b[0m \u001b[0;34m=\u001b[0m \u001b[0msocket\u001b[0m\u001b[0;34m.\u001b[0m\u001b[0mrecv_multipart\u001b[0m\u001b[0;34m(\u001b[0m\u001b[0mmode\u001b[0m\u001b[0;34m,\u001b[0m \u001b[0mcopy\u001b[0m\u001b[0;34m=\u001b[0m\u001b[0mcopy\u001b[0m\u001b[0;34m)\u001b[0m\u001b[0;34m\u001b[0m\u001b[0;34m\u001b[0m\u001b[0m\n\u001b[0m\u001b[1;32m    804\u001b[0m         \u001b[0;32mexcept\u001b[0m \u001b[0mzmq\u001b[0m\u001b[0;34m.\u001b[0m\u001b[0mZMQError\u001b[0m \u001b[0;32mas\u001b[0m \u001b[0me\u001b[0m\u001b[0;34m:\u001b[0m\u001b[0;34m\u001b[0m\u001b[0;34m\u001b[0m\u001b[0m\n",
            "\u001b[0;32m/usr/local/lib/python3.7/dist-packages/zmq/sugar/socket.py\u001b[0m in \u001b[0;36mrecv_multipart\u001b[0;34m(self, flags, copy, track)\u001b[0m\n\u001b[1;32m    582\u001b[0m         \"\"\"\n\u001b[0;32m--> 583\u001b[0;31m         \u001b[0mparts\u001b[0m \u001b[0;34m=\u001b[0m \u001b[0;34m[\u001b[0m\u001b[0mself\u001b[0m\u001b[0;34m.\u001b[0m\u001b[0mrecv\u001b[0m\u001b[0;34m(\u001b[0m\u001b[0mflags\u001b[0m\u001b[0;34m,\u001b[0m \u001b[0mcopy\u001b[0m\u001b[0;34m=\u001b[0m\u001b[0mcopy\u001b[0m\u001b[0;34m,\u001b[0m \u001b[0mtrack\u001b[0m\u001b[0;34m=\u001b[0m\u001b[0mtrack\u001b[0m\u001b[0;34m)\u001b[0m\u001b[0;34m]\u001b[0m\u001b[0;34m\u001b[0m\u001b[0;34m\u001b[0m\u001b[0m\n\u001b[0m\u001b[1;32m    584\u001b[0m         \u001b[0;31m# have first part already, only loop while more to receive\u001b[0m\u001b[0;34m\u001b[0m\u001b[0;34m\u001b[0m\u001b[0;34m\u001b[0m\u001b[0m\n",
            "\u001b[0;32mzmq/backend/cython/socket.pyx\u001b[0m in \u001b[0;36mzmq.backend.cython.socket.Socket.recv\u001b[0;34m()\u001b[0m\n",
            "\u001b[0;32mzmq/backend/cython/socket.pyx\u001b[0m in \u001b[0;36mzmq.backend.cython.socket.Socket.recv\u001b[0;34m()\u001b[0m\n",
            "\u001b[0;32mzmq/backend/cython/socket.pyx\u001b[0m in \u001b[0;36mzmq.backend.cython.socket._recv_copy\u001b[0;34m()\u001b[0m\n",
            "\u001b[0;32m/usr/local/lib/python3.7/dist-packages/zmq/backend/cython/checkrc.pxd\u001b[0m in \u001b[0;36mzmq.backend.cython.checkrc._check_rc\u001b[0;34m()\u001b[0m\n",
            "\u001b[0;31mKeyboardInterrupt\u001b[0m: ",
            "\nDuring handling of the above exception, another exception occurred:\n",
            "\u001b[0;31mKeyboardInterrupt\u001b[0m                         Traceback (most recent call last)",
            "\u001b[0;32m<ipython-input-23-78161bb489f8>\u001b[0m in \u001b[0;36m<module>\u001b[0;34m()\u001b[0m\n\u001b[1;32m      1\u001b[0m \u001b[0;32mwhile\u001b[0m \u001b[0;32mTrue\u001b[0m\u001b[0;34m:\u001b[0m\u001b[0;34m\u001b[0m\u001b[0;34m\u001b[0m\u001b[0m\n\u001b[0;32m----> 2\u001b[0;31m   \u001b[0mquestion\u001b[0m \u001b[0;34m=\u001b[0m \u001b[0minput\u001b[0m\u001b[0;34m(\u001b[0m\u001b[0;34m'公威阿: '\u001b[0m\u001b[0;34m)\u001b[0m\u001b[0;34m\u001b[0m\u001b[0;34m\u001b[0m\u001b[0m\n\u001b[0m\u001b[1;32m      3\u001b[0m   \u001b[0;32mif\u001b[0m \u001b[0mquestion\u001b[0m \u001b[0;34m==\u001b[0m \u001b[0;34m'滾'\u001b[0m\u001b[0;34m:\u001b[0m \u001b[0;31m# 輸入 '滾' 即可結束Chat Bot\u001b[0m\u001b[0;34m\u001b[0m\u001b[0;34m\u001b[0m\u001b[0m\n\u001b[1;32m      4\u001b[0m     \u001b[0mprint\u001b[0m\u001b[0;34m(\u001b[0m\u001b[0;34m'...88'\u001b[0m\u001b[0;34m)\u001b[0m\u001b[0;34m\u001b[0m\u001b[0;34m\u001b[0m\u001b[0m\n\u001b[1;32m      5\u001b[0m     \u001b[0;32mbreak\u001b[0m\u001b[0;34m\u001b[0m\u001b[0;34m\u001b[0m\u001b[0m\n",
            "\u001b[0;32m/usr/local/lib/python3.7/dist-packages/ipykernel/kernelbase.py\u001b[0m in \u001b[0;36mraw_input\u001b[0;34m(self, prompt)\u001b[0m\n\u001b[1;32m    702\u001b[0m             \u001b[0mself\u001b[0m\u001b[0;34m.\u001b[0m\u001b[0m_parent_ident\u001b[0m\u001b[0;34m,\u001b[0m\u001b[0;34m\u001b[0m\u001b[0;34m\u001b[0m\u001b[0m\n\u001b[1;32m    703\u001b[0m             \u001b[0mself\u001b[0m\u001b[0;34m.\u001b[0m\u001b[0m_parent_header\u001b[0m\u001b[0;34m,\u001b[0m\u001b[0;34m\u001b[0m\u001b[0;34m\u001b[0m\u001b[0m\n\u001b[0;32m--> 704\u001b[0;31m             \u001b[0mpassword\u001b[0m\u001b[0;34m=\u001b[0m\u001b[0;32mFalse\u001b[0m\u001b[0;34m,\u001b[0m\u001b[0;34m\u001b[0m\u001b[0;34m\u001b[0m\u001b[0m\n\u001b[0m\u001b[1;32m    705\u001b[0m         )\n\u001b[1;32m    706\u001b[0m \u001b[0;34m\u001b[0m\u001b[0m\n",
            "\u001b[0;32m/usr/local/lib/python3.7/dist-packages/ipykernel/kernelbase.py\u001b[0m in \u001b[0;36m_input_request\u001b[0;34m(self, prompt, ident, parent, password)\u001b[0m\n\u001b[1;32m    732\u001b[0m             \u001b[0;32mexcept\u001b[0m \u001b[0mKeyboardInterrupt\u001b[0m\u001b[0;34m:\u001b[0m\u001b[0;34m\u001b[0m\u001b[0;34m\u001b[0m\u001b[0m\n\u001b[1;32m    733\u001b[0m                 \u001b[0;31m# re-raise KeyboardInterrupt, to truncate traceback\u001b[0m\u001b[0;34m\u001b[0m\u001b[0;34m\u001b[0m\u001b[0;34m\u001b[0m\u001b[0m\n\u001b[0;32m--> 734\u001b[0;31m                 \u001b[0;32mraise\u001b[0m \u001b[0mKeyboardInterrupt\u001b[0m\u001b[0;34m\u001b[0m\u001b[0;34m\u001b[0m\u001b[0m\n\u001b[0m\u001b[1;32m    735\u001b[0m             \u001b[0;32melse\u001b[0m\u001b[0;34m:\u001b[0m\u001b[0;34m\u001b[0m\u001b[0;34m\u001b[0m\u001b[0m\n\u001b[1;32m    736\u001b[0m                 \u001b[0;32mbreak\u001b[0m\u001b[0;34m\u001b[0m\u001b[0;34m\u001b[0m\u001b[0m\n",
            "\u001b[0;31mKeyboardInterrupt\u001b[0m: "
          ]
        }
      ]
    },
    {
      "cell_type": "code",
      "metadata": {
        "id": "pethzqn5XoqR"
      },
      "source": [
        ""
      ],
      "execution_count": null,
      "outputs": []
    }
  ]
}